{
 "cells": [
  {
   "cell_type": "code",
   "execution_count": 3,
   "id": "ad9c3486-639c-4ed3-a58f-5abb1db213d5",
   "metadata": {},
   "outputs": [],
   "source": [
    "# who developed python programming language\n",
    "# ans-\n",
    " Python was created by Guido van Rossum, 20/feb/1991"
   ]
  },
  {
   "cell_type": "code",
   "execution_count": null,
   "id": "06ef87ad-82d0-4c7a-b153-f486fb658dca",
   "metadata": {},
   "outputs": [],
   "source": [
    "# which type of programming does python support\n",
    "# ans-\n",
    "Python is an interpreted programming language,\n",
    "supporting object-oriented, structured, and functional programming."
   ]
  },
  {
   "cell_type": "code",
   "execution_count": null,
   "id": "9edba481-1daa-4182-a3e0-4d3e934d0bcd",
   "metadata": {},
   "outputs": [],
   "source": [
    "# is python case sensitive when we use identifiers\n",
    "Yes,\n",
    "python is a case-sensitive language, it treat uppercase and lowercase characters different."
   ]
  },
  {
   "cell_type": "code",
   "execution_count": null,
   "id": "1cf0d29e-4047-4dd9-8730-9627848ff9af",
   "metadata": {},
   "outputs": [],
   "source": [
    "# what is the correct extension of the python file\n",
    "The extensions for Python files are - . py\n"
   ]
  },
  {
   "cell_type": "code",
   "execution_count": null,
   "id": "c544928c-22df-46d2-a4da-3aa8d0a1c80c",
   "metadata": {},
   "outputs": [],
   "source": [
    "# is python code compiled or interpreted\n",
    "python is an interpreted language,\n",
    "in interpreter the source code is converted into bytecode that is then executed by the python virtual "
   ]
  },
  {
   "cell_type": "code",
   "execution_count": null,
   "id": "cd05c750-8015-477e-9f2a-f7121fda019c",
   "metadata": {},
   "outputs": [],
   "source": [
    "# 6 //////\n",
    "# 7 state a character used to give single line comment in python\n",
    "\n",
    "we use # symbol."
   ]
  },
  {
   "cell_type": "code",
   "execution_count": 5,
   "id": "8d3b3368-7b55-407f-ad6a-f5bd4a9c2ddd",
   "metadata": {},
   "outputs": [],
   "source": [
    "# mention function which can help us to find the version of python that we are currently working on\n",
    "function sys. version "
   ]
  },
  {
   "cell_type": "code",
   "execution_count": null,
   "id": "707bcfba-9aa2-414c-9c61-cec36c6cccb6",
   "metadata": {},
   "outputs": [],
   "source": [
    "# python supports the creation of anonymous function at runtime using  ________\n",
    "lambda"
   ]
  },
  {
   "cell_type": "code",
   "execution_count": null,
   "id": "5ff1ca80-153c-44f8-8b38-02208e76a294",
   "metadata": {},
   "outputs": [],
   "source": [
    "# what does pip stand for python\n",
    "pip install packages"
   ]
  },
  {
   "cell_type": "code",
   "execution_count": 8,
   "id": "6e65a42b-1bbe-4a31-8ab6-3584facc67f0",
   "metadata": {},
   "outputs": [],
   "source": [
    "# mention a few built-in functions in python\n",
    "sum()\n",
    "print()\n",
    "list()\n"
   ]
  },
  {
   "cell_type": "code",
   "execution_count": 11,
   "id": "838b76ce-122e-4eb6-b2d9-782eda5b76cb",
   "metadata": {},
   "outputs": [],
   "source": [
    "# what is the maximum possible length of an identifier in python\n",
    "79 characters"
   ]
  },
  {
   "cell_type": "code",
   "execution_count": null,
   "id": "c5bd9157-7906-4adf-9e30-268d7202e186",
   "metadata": {},
   "outputs": [],
   "source": [
    "# what are the benefits of using python?\n",
    "Data science\n",
    "Scientific and mathematical computing\n",
    "Web development\n",
    "Finance and trading\n",
    "System automation and administration\n",
    "Computer graphics\n",
    "Basic game development\n",
    "Security and penetration testing\n",
    "General and application-specific scripting\n",
    "Mapping and geography (GIS software)"
   ]
  },
  {
   "cell_type": "code",
   "execution_count": null,
   "id": "c4a36513-eb60-4218-8793-dba83601e362",
   "metadata": {},
   "outputs": [],
   "source": [
    "# how is memory managed in Python\n",
    "Memory management in Python involves a private heap containing all Python objects and data structures. The management of this private heap is ensured internally by the Python memory manager."
   ]
  },
  {
   "cell_type": "code",
   "execution_count": null,
   "id": "f1eb9e5e-d756-4b52-a358-9c17db09c2fc",
   "metadata": {},
   "outputs": [],
   "source": [
    "# how to install python on Window and set path variables\n",
    "Right-clicking This PC and going to Properties.\n",
    "\n",
    "Clicking on the Advanced system settings in the menu on the left.\n",
    "\n",
    "Clicking on the Environment Variables button on the bottom right.\n",
    "\n",
    "In the System variables section, selecting the Path variable and clicking on Edit. The next screen will show all the directories that are currently a part of the PATH variable.\n",
    "\n",
    "Clicking on New and entering Python’s install directory."
   ]
  },
  {
   "cell_type": "code",
   "execution_count": 13,
   "id": "8d387aa1-05ee-4acc-a6e3-3251d7758c93",
   "metadata": {},
   "outputs": [],
   "source": [
    "# is indentation required in python?\n",
    " the indentation in Python is very important. Python uses indentation to indicate a block of code.\n"
   ]
  }
 ],
 "metadata": {
  "kernelspec": {
   "display_name": "Python 3 (ipykernel)",
   "language": "python",
   "name": "python3"
  },
  "language_info": {
   "codemirror_mode": {
    "name": "ipython",
    "version": 3
   },
   "file_extension": ".py",
   "mimetype": "text/x-python",
   "name": "python",
   "nbconvert_exporter": "python",
   "pygments_lexer": "ipython3",
   "version": "3.10.8"
  }
 },
 "nbformat": 4,
 "nbformat_minor": 5
}
